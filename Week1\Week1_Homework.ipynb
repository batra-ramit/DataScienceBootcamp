{
  "nbformat": 4,
  "nbformat_minor": 0,
  "metadata": {
    "colab": {
      "provenance": [],
      "authorship_tag": "ABX9TyNIuxh1Dn5GVV2JO0cxidMp",
      "include_colab_link": true
    },
    "kernelspec": {
      "name": "python3",
      "display_name": "Python 3"
    },
    "language_info": {
      "name": "python"
    }
  },
  "cells": [
    {
      "cell_type": "markdown",
      "metadata": {
        "id": "view-in-github",
        "colab_type": "text"
      },
      "source": [
        "<a href=\"https://colab.research.google.com/github/batra-ramit/DataScienceBootcamp/blob/master/Week1%5CWeek1_Homework.ipynb\" target=\"_parent\"><img src=\"https://colab.research.google.com/assets/colab-badge.svg\" alt=\"Open In Colab\"/></a>"
      ]
    },
    {
      "cell_type": "markdown",
      "source": [
        "# Take home exercises\n",
        "1. Write a function count_vowels(word) that takes a word as an argument and returns the number of vowels in the word\n",
        "\n",
        "2. Iterate through the following list of animals and print each one in all caps. animals=['tiger', 'elephant', 'monkey', 'zebra', 'panther']\n",
        "\n",
        "3. Write a program that iterates from 1 to 20, printing each number and whether it's odd or even.\n",
        "\n",
        "4. Write a function sum_of_integers(a, b) that takes two integers as input from the user and returns their sum."
      ],
      "metadata": {
        "id": "IIN_3JYLeHha"
      }
    },
    {
      "cell_type": "code",
      "execution_count": 15,
      "metadata": {
        "colab": {
          "base_uri": "https://localhost:8080/"
        },
        "id": "7sp0Kvscd8v6",
        "outputId": "9f0d1841-c656-47a2-8a77-1e8a297c7645"
      },
      "outputs": [
        {
          "output_type": "stream",
          "name": "stdout",
          "text": [
            "2\n"
          ]
        }
      ],
      "source": [
        "a=\"Apple\"\n",
        "\n",
        "def count_vowels(words):\n",
        "    sum=0\n",
        "    for i in range(len(words)):\n",
        "      word=words.lower()\n",
        "      if(word[i]==\"a\" or word[i]==\"e\" or word[i]==\"i\" or word[i]==\"o\" or word[i]==\"u\"):\n",
        "        sum=sum+1\n",
        "    return sum\n",
        "\n",
        "print(count_vowels(a))"
      ]
    },
    {
      "cell_type": "code",
      "source": [
        "animals=['tiger', 'elephant', 'monkey', 'zebra', 'panther']\n",
        "for i in animals:\n",
        "  animal=i.upper();\n",
        "  print(animal)"
      ],
      "metadata": {
        "colab": {
          "base_uri": "https://localhost:8080/"
        },
        "id": "v8e_NbF9V8pJ",
        "outputId": "e5c10bfb-e29d-42b6-a54f-a74629f445bc"
      },
      "execution_count": 16,
      "outputs": [
        {
          "output_type": "stream",
          "name": "stdout",
          "text": [
            "TIGER\n",
            "ELEPHANT\n",
            "MONKEY\n",
            "ZEBRA\n",
            "PANTHER\n"
          ]
        }
      ]
    },
    {
      "cell_type": "code",
      "source": [
        "for i in range(20):\n",
        "  if (i+1)%2==0:\n",
        "    print((i+1),\"even\")\n",
        "  else:\n",
        "    print((i+1),\"odd\")"
      ],
      "metadata": {
        "colab": {
          "base_uri": "https://localhost:8080/"
        },
        "id": "9WuaGA0qWMwX",
        "outputId": "37c58277-e0a8-4bbf-d9eb-935e054ab8c2"
      },
      "execution_count": 20,
      "outputs": [
        {
          "output_type": "stream",
          "name": "stdout",
          "text": [
            "1 odd\n",
            "2 even\n",
            "3 odd\n",
            "4 even\n",
            "5 odd\n",
            "6 even\n",
            "7 odd\n",
            "8 even\n",
            "9 odd\n",
            "10 even\n",
            "11 odd\n",
            "12 even\n",
            "13 odd\n",
            "14 even\n",
            "15 odd\n",
            "16 even\n",
            "17 odd\n",
            "18 even\n",
            "19 odd\n",
            "20 even\n"
          ]
        }
      ]
    },
    {
      "cell_type": "code",
      "source": [
        "def sum_of_integers(a,b):\n",
        "  return int(a)+int(b)\n",
        "\n",
        "a=input()\n",
        "b=input()\n",
        "\n",
        "sum_of_integers(a,b)"
      ],
      "metadata": {
        "colab": {
          "base_uri": "https://localhost:8080/"
        },
        "id": "eWHYr1nrW2IO",
        "outputId": "902a8665-ec55-49f5-875f-08245127bb0a"
      },
      "execution_count": 26,
      "outputs": [
        {
          "name": "stdout",
          "output_type": "stream",
          "text": [
            "5\n",
            "6\n"
          ]
        },
        {
          "output_type": "execute_result",
          "data": {
            "text/plain": [
              "11"
            ]
          },
          "metadata": {},
          "execution_count": 26
        }
      ]
    }
  ]
}