{
  "nbformat": 4,
  "nbformat_minor": 0,
  "metadata": {
    "colab": {
      "provenance": [],
      "authorship_tag": "ABX9TyPqMrfDOxdXujY97bOltklz",
      "include_colab_link": true
    },
    "kernelspec": {
      "name": "python3",
      "display_name": "Python 3"
    },
    "language_info": {
      "name": "python"
    }
  },
  "cells": [
    {
      "cell_type": "markdown",
      "metadata": {
        "id": "view-in-github",
        "colab_type": "text"
      },
      "source": [
        "<a href=\"https://colab.research.google.com/github/batra-ramit/DataScienceBootcamp/blob/master/Week2_HomeWork.ipynb\" target=\"_parent\"><img src=\"https://colab.research.google.com/assets/colab-badge.svg\" alt=\"Open In Colab\"/></a>"
      ]
    },
    {
      "cell_type": "markdown",
      "source": [
        "# Problems\n",
        "\n",
        "1) From df filter the 'Manufacturer', 'Model' and 'Type' for every 20th row starting from 1st (row 0).\n",
        "df = pd.read_csv('https://raw.githubusercontent.com/selva86/datasets/master/Cars93_miss.csv')\n",
        "\n",
        "2) Replace missing values in Min.Price and Max.Price columns with their respective mean (check documentation).\n",
        "df = pd.read_csv('https://raw.githubusercontent.com/selva86/datasets/master/Cars93_miss.csv')\n",
        "\n",
        "3) How to get the rows of a dataframe with row sum > 100?\n",
        "df = pd.DataFrame(np.random.randint(10, 40, 60).reshape(-1, 4))\n",
        "\n",
        "4)Create a 4x4 NumPy array filled with random integers between 1 and 100. Then, reshape this array into two separate 2D arrays, where one represents the rows and the other represents the columns. Write a function, preferably using a lambda function, to calculate the sum of each row and each column separately, and return the results as two separate NumPy arrays"
      ],
      "metadata": {
        "id": "YEZ7EgrjRgYT"
      }
    },
    {
      "cell_type": "code",
      "source": [
        "import pandas as pd\n",
        "df = pd.read_csv('https://raw.githubusercontent.com/selva86/datasets/master/Cars93_miss.csv')\n",
        "\n",
        "rows=df.shape[0]\n",
        "\n",
        "# Filter the 'Manufacturer', 'Model', and 'Type' columns for every 20th row starting from the 1st row (index 0)\n",
        "result_df = df.iloc[::20, :][['Manufacturer', 'Model', 'Type']]\n",
        "\n",
        "# Display the result\n",
        "print(result_df)"
      ],
      "metadata": {
        "colab": {
          "base_uri": "https://localhost:8080/"
        },
        "id": "Lw_CqAOGRnD-",
        "outputId": "fbcfec8d-c3b0-4bae-b2dd-257307671577"
      },
      "execution_count": 1,
      "outputs": [
        {
          "output_type": "stream",
          "name": "stdout",
          "text": [
            "   Manufacturer    Model     Type\n",
            "0         Acura  Integra    Small\n",
            "20     Chrysler  LeBaron  Compact\n",
            "40        Honda  Prelude   Sporty\n",
            "60      Mercury   Cougar  Midsize\n",
            "80       Subaru   Loyale    Small\n"
          ]
        }
      ]
    },
    {
      "cell_type": "code",
      "source": [
        "import pandas as pd\n",
        "df = pd.read_csv('https://raw.githubusercontent.com/selva86/datasets/master/Cars93_miss.csv')\n",
        "\n",
        "df.head()\n",
        "\n",
        "# Calculate the mean for 'Min.Price' and 'Max.Price' columns\n",
        "min_price_mean = df['Min.Price'].mean()\n",
        "max_price_mean = df['Max.Price'].mean()\n",
        "\n",
        "# Replace missing values with the mean\n",
        "df['Min.Price'].fillna(min_price_mean, inplace=True)\n",
        "df['Max.Price'].fillna(max_price_mean, inplace=True)\n",
        "\n",
        "# Display the modified DataFrame\n",
        "print(df)\n",
        "\n"
      ],
      "metadata": {
        "colab": {
          "base_uri": "https://localhost:8080/"
        },
        "id": "G3Eh4qeuhN1s",
        "outputId": "7572d301-7a52-457d-8740-49e633a6aad8"
      },
      "execution_count": 7,
      "outputs": [
        {
          "output_type": "stream",
          "name": "stdout",
          "text": [
            "   Manufacturer    Model     Type  Min.Price  Price  Max.Price  MPG.city  \\\n",
            "0         Acura  Integra    Small  12.900000   15.9  18.800000      25.0   \n",
            "1           NaN   Legend  Midsize  29.200000   33.9  38.700000      18.0   \n",
            "2          Audi       90  Compact  25.900000   29.1  32.300000      20.0   \n",
            "3          Audi      100  Midsize  17.118605   37.7  44.600000      19.0   \n",
            "4           BMW     535i  Midsize  17.118605   30.0  21.459091      22.0   \n",
            "..          ...      ...      ...        ...    ...        ...       ...   \n",
            "88   Volkswagen  Eurovan      Van  16.600000   19.7  22.700000      17.0   \n",
            "89   Volkswagen   Passat  Compact  17.600000   20.0  22.400000      21.0   \n",
            "90   Volkswagen  Corrado   Sporty  22.900000   23.3  23.700000      18.0   \n",
            "91        Volvo      240  Compact  21.800000   22.7  23.500000      21.0   \n",
            "92          NaN      850  Midsize  24.800000   26.7  28.500000      20.0   \n",
            "\n",
            "    MPG.highway             AirBags DriveTrain  ... Passengers  Length  \\\n",
            "0          31.0                None      Front  ...        5.0   177.0   \n",
            "1          25.0  Driver & Passenger      Front  ...        5.0   195.0   \n",
            "2          26.0         Driver only      Front  ...        5.0   180.0   \n",
            "3          26.0  Driver & Passenger        NaN  ...        6.0   193.0   \n",
            "4          30.0                 NaN       Rear  ...        4.0   186.0   \n",
            "..          ...                 ...        ...  ...        ...     ...   \n",
            "88         21.0                None      Front  ...        7.0   187.0   \n",
            "89         30.0                None      Front  ...        5.0   180.0   \n",
            "90         25.0                None      Front  ...        4.0   159.0   \n",
            "91         28.0         Driver only       Rear  ...        5.0   190.0   \n",
            "92         28.0  Driver & Passenger      Front  ...        5.0   184.0   \n",
            "\n",
            "    Wheelbase  Width  Turn.circle Rear.seat.room  Luggage.room  Weight  \\\n",
            "0       102.0   68.0         37.0           26.5           NaN  2705.0   \n",
            "1       115.0   71.0         38.0           30.0          15.0  3560.0   \n",
            "2       102.0   67.0         37.0           28.0          14.0  3375.0   \n",
            "3       106.0    NaN         37.0           31.0          17.0  3405.0   \n",
            "4       109.0   69.0         39.0           27.0          13.0  3640.0   \n",
            "..        ...    ...          ...            ...           ...     ...   \n",
            "88      115.0   72.0         38.0           34.0           NaN  3960.0   \n",
            "89      103.0   67.0         35.0           31.5          14.0  2985.0   \n",
            "90       97.0   66.0         36.0           26.0          15.0  2810.0   \n",
            "91      104.0   67.0         37.0           29.5          14.0  2985.0   \n",
            "92      105.0   69.0         38.0           30.0          15.0  3245.0   \n",
            "\n",
            "     Origin                Make  \n",
            "0   non-USA       Acura Integra  \n",
            "1   non-USA        Acura Legend  \n",
            "2   non-USA             Audi 90  \n",
            "3   non-USA            Audi 100  \n",
            "4   non-USA            BMW 535i  \n",
            "..      ...                 ...  \n",
            "88      NaN  Volkswagen Eurovan  \n",
            "89  non-USA   Volkswagen Passat  \n",
            "90  non-USA  Volkswagen Corrado  \n",
            "91  non-USA           Volvo 240  \n",
            "92  non-USA           Volvo 850  \n",
            "\n",
            "[93 rows x 27 columns]\n"
          ]
        }
      ]
    },
    {
      "cell_type": "code",
      "source": [
        "import pandas as pd\n",
        "import numpy as np\n",
        "\n",
        "# Create a DataFrame with random integer values\n",
        "df = pd.DataFrame(np.random.randint(10, 40, 60).reshape(-1, 4))\n",
        "\n",
        "# Filter rows with row sum > 100\n",
        "result_df = df[df.sum(axis=1) > 100]\n",
        "\n",
        "# Display the result\n",
        "print(result_df)"
      ],
      "metadata": {
        "colab": {
          "base_uri": "https://localhost:8080/"
        },
        "id": "fYhlC7O0jOkR",
        "outputId": "e0dae451-1ba3-405b-be38-78f346e9a0ce"
      },
      "execution_count": 9,
      "outputs": [
        {
          "output_type": "stream",
          "name": "stdout",
          "text": [
            "     0   1   2   3\n",
            "1   17  35  31  37\n",
            "7   35  21  25  22\n",
            "10  31  39  28  20\n",
            "11  35  13  29  26\n",
            "13  33  38  39  28\n",
            "14  37  39  13  30\n"
          ]
        }
      ]
    },
    {
      "cell_type": "code",
      "source": [
        "import numpy as np\n",
        "\n",
        "# Create a 4x4 NumPy array filled with random integers between 1 and 100\n",
        "random_array = np.random.randint(1, 101, size=(4, 4))\n",
        "\n",
        "# Reshape the array into two separate 2D arrays (rows and columns)\n",
        "rows_array = random_array.copy()\n",
        "columns_array = random_array.T.copy()\n",
        "\n",
        "# Define a lambda function to calculate the sum of each row\n",
        "sum_rows = lambda arr: np.apply_along_axis(np.sum, axis=1, arr=arr)\n",
        "\n",
        "# Define a lambda function to calculate the sum of each column\n",
        "sum_columns = lambda arr: np.apply_along_axis(np.sum, axis=0, arr=arr)\n",
        "\n",
        "# Calculate the sums using the lambda functions\n",
        "sum_of_rows = sum_rows(rows_array)\n",
        "sum_of_columns = sum_columns(columns_array)\n",
        "\n",
        "# Display the results\n",
        "print(\"Original Array:\")\n",
        "print(random_array)\n",
        "print(\"\\nRows Array:\")\n",
        "print(rows_array)\n",
        "print(\"\\nColumns Array:\")\n",
        "print(columns_array)\n",
        "print(\"\\nSum of Each Row:\")\n",
        "print(sum_of_rows)\n",
        "print(\"\\nSum of Each Column:\")\n",
        "print(sum_of_columns)\n"
      ],
      "metadata": {
        "colab": {
          "base_uri": "https://localhost:8080/"
        },
        "id": "4do35Asfj8ri",
        "outputId": "0c305007-5722-4a1f-ae5f-6899b358c74b"
      },
      "execution_count": 10,
      "outputs": [
        {
          "output_type": "stream",
          "name": "stdout",
          "text": [
            "Original Array:\n",
            "[[ 79  53  67  80]\n",
            " [ 85  88  35  66]\n",
            " [100  84  61  16]\n",
            " [ 60  55  98  33]]\n",
            "\n",
            "Rows Array:\n",
            "[[ 79  53  67  80]\n",
            " [ 85  88  35  66]\n",
            " [100  84  61  16]\n",
            " [ 60  55  98  33]]\n",
            "\n",
            "Columns Array:\n",
            "[[ 79  85 100  60]\n",
            " [ 53  88  84  55]\n",
            " [ 67  35  61  98]\n",
            " [ 80  66  16  33]]\n",
            "\n",
            "Sum of Each Row:\n",
            "[279 274 261 246]\n",
            "\n",
            "Sum of Each Column:\n",
            "[279 274 261 246]\n"
          ]
        }
      ]
    }
  ]
}